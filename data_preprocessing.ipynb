{
 "cells": [
  {
   "cell_type": "code",
   "execution_count": 14,
   "metadata": {},
   "outputs": [],
   "source": [
    "import os\n",
    "import glob\n",
    "import shutil\n",
    "import random\n",
    "from tqdm import tqdm"
   ]
  },
  {
   "cell_type": "code",
   "execution_count": 15,
   "metadata": {},
   "outputs": [],
   "source": [
    "raw_dir= r'C:\\Users\\Daniel\\Documents\\ds\\driver_drowsiness\\mrlEyes_2018_01'"
   ]
  },
  {
   "cell_type": "code",
   "execution_count": 16,
   "metadata": {},
   "outputs": [
    {
     "name": "stderr",
     "output_type": "stream",
     "text": [
      "0it [00:00, ?it/s]\n",
      "100%|█████████████████████████████████████████████████████████████████████████████| 3242/3242 [00:15<00:00, 213.79it/s]\n",
      "100%|█████████████████████████████████████████████████████████████████████████████| 1114/1114 [00:02<00:00, 375.44it/s]\n",
      "100%|███████████████████████████████████████████████████████████████████████████████| 679/679 [00:02<00:00, 301.83it/s]\n",
      "100%|█████████████████████████████████████████████████████████████████████████████| 1069/1069 [00:03<00:00, 292.14it/s]\n",
      "100%|███████████████████████████████████████████████████████████████████████████████| 736/736 [00:04<00:00, 153.73it/s]\n",
      "100%|██████████████████████████████████████████████████████████████████████████████| 1012/1012 [00:11<00:00, 91.65it/s]\n",
      "100%|████████████████████████████████████████████████████████████████████████████████| 624/624 [00:23<00:00, 27.01it/s]\n",
      "100%|████████████████████████████████████████████████████████████████████████████████| 832/832 [00:32<00:00, 25.59it/s]\n",
      "100%|████████████████████████████████████████████████████████████████████████████████| 387/387 [00:13<00:00, 27.74it/s]\n",
      "100%|████████████████████████████████████████████████████████████████████████████████| 399/399 [00:15<00:00, 25.10it/s]\n",
      "100%|██████████████████████████████████████████████████████████████████████████████| 1648/1648 [01:03<00:00, 25.82it/s]\n",
      "100%|██████████████████████████████████████████████████████████████████████████████| 8728/8728 [06:07<00:00, 23.74it/s]\n",
      "100%|██████████████████████████████████████████████████████████████████████████████| 3605/3605 [02:13<00:00, 27.06it/s]\n",
      "100%|██████████████████████████████████████████████████████████████████████████████| 8884/8884 [04:51<00:00, 30.46it/s]\n",
      "100%|██████████████████████████████████████████████████████████████████████████████| 1132/1132 [00:40<00:00, 27.69it/s]\n",
      "100%|██████████████████████████████████████████████████████████████████████████████| 1889/1889 [01:08<00:00, 27.75it/s]\n",
      "100%|██████████████████████████████████████████████████████████████████████████████| 1648/1648 [00:45<00:00, 36.26it/s]\n",
      "100%|██████████████████████████████████████████████████████████████████████████████| 4410/4410 [02:10<00:00, 33.68it/s]\n",
      "100%|██████████████████████████████████████████████████████████████████████████████| 6175/6175 [03:15<00:00, 31.57it/s]\n",
      "100%|████████████████████████████████████████████████████████████████████████████████| 704/704 [00:15<00:00, 45.29it/s]\n",
      "100%|████████████████████████████████████████████████████████████████████████████████| 987/987 [00:27<00:00, 36.44it/s]\n",
      "100%|████████████████████████████████████████████████████████████████████████████████| 382/382 [00:11<00:00, 32.90it/s]\n",
      "100%|████████████████████████████████████████████████████████████████████████████████| 522/522 [00:17<00:00, 30.40it/s]\n",
      "100%|████████████████████████████████████████████████████████████████████████████████| 752/752 [00:22<00:00, 33.18it/s]\n",
      "100%|██████████████████████████████████████████████████████████████████████████████| 1502/1502 [00:44<00:00, 33.75it/s]\n",
      "100%|██████████████████████████████████████████████████████████████████████████████| 1246/1246 [00:34<00:00, 35.92it/s]\n",
      "100%|████████████████████████████████████████████████████████████████████████████████| 665/665 [00:19<00:00, 33.57it/s]\n",
      "100%|████████████████████████████████████████████████████████████████████████████████| 736/736 [00:22<00:00, 32.36it/s]\n",
      "100%|██████████████████████████████████████████████████████████████████████████████| 1393/1393 [00:38<00:00, 35.72it/s]\n",
      "100%|██████████████████████████████████████████████████████████████████████████████| 1384/1384 [00:35<00:00, 38.54it/s]\n",
      "100%|██████████████████████████████████████████████████████████████████████████████| 1738/1738 [00:58<00:00, 29.90it/s]\n",
      "100%|██████████████████████████████████████████████████████████████████████████████| 6162/6162 [03:18<00:00, 30.97it/s]\n",
      "100%|████████████████████████████████████████████████████████████████████████████████| 681/681 [00:32<00:00, 20.75it/s]\n",
      "100%|████████████████████████████████████████████████████████████████████████████████| 739/739 [00:24<00:00, 30.51it/s]\n",
      "100%|████████████████████████████████████████████████████████████████████████████████| 642/642 [00:20<00:00, 30.82it/s]\n",
      "100%|██████████████████████████████████████████████████████████████████████████████| 6193/6193 [03:06<00:00, 33.20it/s]\n",
      "100%|████████████████████████████████████████████████████████████████████████████| 10257/10257 [05:36<00:00, 30.47it/s]\n"
     ]
    }
   ],
   "source": [
    "for dirpath, dirname, filename in os.walk(raw_dir):\n",
    "    for file in tqdm([f for f in filename if f.endswith('.png')]):\n",
    "        if file.split('_')[4] == '0':\n",
    "            path=r'C:\\Users\\Daniel\\Documents\\ds\\driver_drowsiness\\train\\closed'\n",
    "            if not os.path.exists(path):\n",
    "                os.makedirs(path)\n",
    "            shutil.copy(src=dirpath + '/' + file, dst= path)\n",
    "        elif file.split('_')[4] == '1':\n",
    "            path=r'C:\\Users\\Daniel\\Documents\\ds\\driver_drowsiness\\train\\opened'\n",
    "            if not os.path.exists(path):\n",
    "                os.makedirs(path)\n",
    "            shutil.copy(src=dirpath + '/' + file, dst= path)  "
   ]
  },
  {
   "cell_type": "code",
   "execution_count": 17,
   "metadata": {},
   "outputs": [],
   "source": [
    "def create_test_closed(source, destination, percent):\n",
    "    \n",
    "    '''\n",
    "    divides closed eyes images into given percent and moves from\n",
    "    source to destination.\n",
    "    \n",
    "    Arguments:\n",
    "    source(path): path of source directory\n",
    "    destination(path): path of destination directory\n",
    "    percent(float): percent of data to be divided(range: 0 to 1)\n",
    "    '''\n",
    "    path, dirs, files_closed = next(os.walk(source))\n",
    "    file_count_closed = len(files_closed)\n",
    "    percentage = file_count_closed * percent\n",
    "    to_move = random.sample(glob.glob(source + \"/*.png\"), int(percentage))\n",
    "\n",
    "    for f in enumerate(to_move):\n",
    "        if not os.path.exists(destination):\n",
    "            os.makedirs(destination)\n",
    "        shutil.move(f[1], destination)\n",
    "    print(f'moved {int(percentage)} images to the destination successfully.')    \n"
   ]
  },
  {
   "cell_type": "code",
   "execution_count": 18,
   "metadata": {},
   "outputs": [],
   "source": [
    "def create_test_open(source, destination, percent):\n",
    "    \n",
    "    '''\n",
    "    divides open eyes images into given percent and moves from\n",
    "    source to destination.\n",
    "    \n",
    "    Arguments:\n",
    "    source(path): path of source directory\n",
    "    destination(path): path of destination directory\n",
    "    percent(float): percent of data to be divided(range: 0 to 1)\n",
    "    '''\n",
    "    path, dirs, files_open = next(os.walk(source))\n",
    "    file_count_open = len(files_open)\n",
    "    percentage = file_count_open * percent\n",
    "    to_move = random.sample(glob.glob(source + \"/*.png\"), int(percentage))\n",
    "\n",
    "    for f in enumerate(to_move):\n",
    "        if not os.path.exists(destination):\n",
    "            os.makedirs(destination)\n",
    "        shutil.move(f[1], destination)\n",
    "    print(f'moved {int(percentage)} images to the destination successfully.')\n"
   ]
  },
  {
   "cell_type": "code",
   "execution_count": 19,
   "metadata": {},
   "outputs": [
    {
     "name": "stdout",
     "output_type": "stream",
     "text": [
      "moved 8389 images to the destination successfully.\n"
     ]
    }
   ],
   "source": [
    "create_test_closed(r'C:\\Users\\Daniel\\Documents\\ds\\driver_drowsiness\\train\\closed', \n",
    "                    r'C:\\Users\\Daniel\\Documents\\ds\\driver_drowsiness\\test\\closed', \n",
    "                    0.2)"
   ]
  },
  {
   "cell_type": "code",
   "execution_count": 20,
   "metadata": {},
   "outputs": [
    {
     "name": "stdout",
     "output_type": "stream",
     "text": [
      "moved 8590 images to the destination successfully.\n"
     ]
    }
   ],
   "source": [
    "create_test_open(r'C:\\Users\\Daniel\\Documents\\ds\\driver_drowsiness\\train\\opened', \n",
    "                    r'C:\\Users\\Daniel\\Documents\\ds\\driver_drowsiness\\test\\opened', \n",
    "                    0.2)"
   ]
  },
  {
   "cell_type": "code",
   "execution_count": null,
   "metadata": {},
   "outputs": [],
   "source": []
  }
 ],
 "metadata": {
  "kernelspec": {
   "display_name": "Python 3",
   "language": "python",
   "name": "python3"
  },
  "language_info": {
   "codemirror_mode": {
    "name": "ipython",
    "version": 3
   },
   "file_extension": ".py",
   "mimetype": "text/x-python",
   "name": "python",
   "nbconvert_exporter": "python",
   "pygments_lexer": "ipython3",
   "version": "3.8.5"
  }
 },
 "nbformat": 4,
 "nbformat_minor": 4
}
