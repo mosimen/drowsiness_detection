{
 "cells": [
  {
   "cell_type": "code",
   "execution_count": 1,
   "metadata": {},
   "outputs": [],
   "source": [
    "import tensorflow as tf"
   ]
  },
  {
   "cell_type": "code",
   "execution_count": null,
   "metadata": {},
   "outputs": [],
   "source": [
    "import cv2\n",
    "from tensorflow.keras.models import load_model\n",
    "import numpy as np\n",
    "from pygame import mixer"
   ]
  },
  {
   "cell_type": "code",
   "execution_count": null,
   "metadata": {},
   "outputs": [],
   "source": [
    "face_cascade = cv2.CascadeClassifier(cv2.data.haarcascades + 'haarcascade_frontalface_default.xml')\n",
    "\n",
    "eye_cascade = cv2.CascadeClassifier(cv2.data.haarcascades + 'haarcascade_eye.xml')"
   ]
  },
  {
   "cell_type": "code",
   "execution_count": null,
   "metadata": {},
   "outputs": [],
   "source": [
    "model=load_model(r'C:\\Users\\Daniel\\Documents\\ds\\driver_drowsiness\\model\\model.h5')"
   ]
  },
  {
   "cell_type": "code",
   "execution_count": null,
   "metadata": {},
   "outputs": [],
   "source": [
    "mixer.init()\n",
    "sound= mixer.Sound(r'C:\\Users\\Daniel\\Documents\\ds\\driver_drowsiness\\alarm.wav')\n",
    "\n",
    "cap = cv2.VideoCapture(0)\n",
    "\n",
    "Score = 0\n",
    "\n",
    "while True:\n",
    "    ret, frame = cap.read()\n",
    "    height,width = frame.shape[0:2]\n",
    "    \n",
    "    gray = cv2.cvtColor(frame, cv2.COLOR_BGR2GRAY)\n",
    "    faces = face_cascade.detectMultiScale(gray, scaleFactor=1.2,\n",
    "                                         minNeighbors=3)\n",
    "    eyes= eye_cascade.detectMultiScale(gray, scaleFactor=1.1,\n",
    "                                         minNeighbors=1)\n",
    "    \n",
    "    cv2.rectangle(frame,\n",
    "                  (0, height-50),\n",
    "                  (200, height),\n",
    "                  (0,0,0),\n",
    "                  thickness=cv2.FILLED)\n",
    "    \n",
    "    for (x,y,w,h) in faces:\n",
    "        cv2.rectangle(frame, \n",
    "                      pt1=(x,y), \n",
    "                      pt2=(x+w, y+h),\n",
    "                     color = (255,0,0),\n",
    "                     thickness=3)\n",
    "    \n",
    "    for (ex,ey,ew,eh) in eyes:\n",
    "        cv2.rectangle(frame, \n",
    "                      pt1=(ex,ey), \n",
    "                      pt2=(ex+ew, ey+eh),\n",
    "                     color = (255,0,0),\n",
    "                     thickness=3)\n",
    "        \n",
    "        eye= frame[ey:ey+eh, ex:ex+ew]\n",
    "        eye= cv2.resize(eye,(80,80))\n",
    "        eye= eye/255\n",
    "        eye= eye.reshape(80,80,3)\n",
    "        eye=np.expand_dims(eye, axis=0)\n",
    "        \n",
    "        prediction = model.predict(eye)\n",
    "        \n",
    "        if prediction[0][0]>0.3:\n",
    "            cv2.putText(frame,\n",
    "                        'closed',\n",
    "                        (10, height-20),\n",
    "                       fontFace = cv2.FONT_HERSHEY_COMPLEX_SMALL,\n",
    "                       fontScale = 1,\n",
    "                       color=(255,255,255),\n",
    "                       thickness=1,\n",
    "                       lineType=cv2.LINE_AA)\n",
    "            cv2.putText(frame,\n",
    "                        'Score'+str(Score),\n",
    "                        (100, height-20),\n",
    "                       fontFace = cv2.FONT_HERSHEY_COMPLEX_SMALL,\n",
    "                       fontScale = 1,\n",
    "                       color=(255,255,255),\n",
    "                       thickness=1,\n",
    "                       lineType=cv2.LINE_AA)\n",
    "            Score=Score+1\n",
    "            if (Score>15):\n",
    "                try:\n",
    "                    sound.play()\n",
    "                except:\n",
    "                    pass\n",
    "            \n",
    "        elif prediction[0][1]>0.9:\n",
    "            cv2.putText(frame,\n",
    "                        'open',\n",
    "                        (10, height-20),\n",
    "                       fontFace = cv2.FONT_HERSHEY_COMPLEX_SMALL,\n",
    "                       fontScale = 1,\n",
    "                       color=(255,255,255),\n",
    "                       thickness=1,\n",
    "                       lineType=cv2.LINE_AA)\n",
    "            cv2.putText(frame,\n",
    "                        'Score'+str(Score),\n",
    "                        (100, height-20),\n",
    "                       fontFace = cv2.FONT_HERSHEY_COMPLEX_SMALL,\n",
    "                       fontScale = 1,\n",
    "                       color=(255,255,255),\n",
    "                       thickness=1,\n",
    "                       lineType=cv2.LINE_AA)\n",
    "            Score = Score-1\n",
    "            if (Score<0):\n",
    "                Score=0\n",
    "            \n",
    "        \n",
    "    cv2.imshow('frame', frame)\n",
    "    if cv2.waitKey(33) & 0xFF == ord('q'):\n",
    "        break\n",
    "\n",
    "cap.release()\n",
    "cv2.destroyAllWindows()"
   ]
  },
  {
   "cell_type": "code",
   "execution_count": null,
   "metadata": {},
   "outputs": [],
   "source": []
  }
 ],
 "metadata": {
  "kernelspec": {
   "display_name": "Python 3",
   "language": "python",
   "name": "python3"
  },
  "language_info": {
   "codemirror_mode": {
    "name": "ipython",
    "version": 3
   },
   "file_extension": ".py",
   "mimetype": "text/x-python",
   "name": "python",
   "nbconvert_exporter": "python",
   "pygments_lexer": "ipython3",
   "version": "3.8.5"
  }
 },
 "nbformat": 4,
 "nbformat_minor": 4
}
